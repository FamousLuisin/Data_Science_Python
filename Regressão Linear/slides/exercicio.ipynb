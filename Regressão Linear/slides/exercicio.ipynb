{
 "cells": [
  {
   "cell_type": "code",
   "execution_count": null,
   "metadata": {},
   "outputs": [],
   "source": [
    "import pandas as pd\n",
    "import numpy as np\n",
    "import matplotlib.pyplot as plt\n",
    "from sklearn.linear_model import LinearRegression"
   ]
  },
  {
   "cell_type": "code",
   "execution_count": null,
   "metadata": {},
   "outputs": [],
   "source": [
    "dados = pd.read_csv('../dados/slr12.csv', sep=\";\")\n",
    "dados.shape"
   ]
  },
  {
   "cell_type": "code",
   "execution_count": null,
   "metadata": {},
   "outputs": [],
   "source": [
    "# frqAnual = Taxa anual para ter a franquia\n",
    "# CusInic = Investimento inicial\n",
    "# Prever o investumento inicial a partir da taxa = y(CusInic)\n",
    "dados.head()"
   ]
  },
  {
   "cell_type": "code",
   "execution_count": null,
   "metadata": {},
   "outputs": [],
   "source": [
    "# O x (variavel independente) nesse caso será a taxa\n",
    "x = dados.iloc[:, 0].values\n",
    "y = dados.iloc[:, 1].values\n",
    "x"
   ]
  },
  {
   "cell_type": "code",
   "execution_count": null,
   "metadata": {},
   "outputs": [],
   "source": [
    "# Analisar para ver o coeficiente de correlação\n",
    "# Valor relativamente baixo mas dá para trabalhar\n",
    "correlacao = np.corrcoef(x, y)\n",
    "correlacao"
   ]
  },
  {
   "cell_type": "code",
   "execution_count": null,
   "metadata": {},
   "outputs": [],
   "source": [
    "# Formatar a matriz\n",
    "x = x.reshape(-1, 1)\n",
    "# Criar o modelo\n",
    "modelo = LinearRegression()\n",
    "# Treinar o modelo\n",
    "modelo.fit(x, y)"
   ]
  },
  {
   "cell_type": "code",
   "execution_count": null,
   "metadata": {},
   "outputs": [],
   "source": [
    "# intesecçãp\n",
    "modelo.intercept_"
   ]
  },
  {
   "cell_type": "code",
   "execution_count": null,
   "metadata": {},
   "outputs": [],
   "source": [
    "# Inclinação\n",
    "modelo.coef_"
   ]
  },
  {
   "cell_type": "code",
   "execution_count": null,
   "metadata": {},
   "outputs": [],
   "source": [
    "# plotar o gráfico\n",
    "plt.scatter(x, y)\n",
    "plt.plot(x, modelo.predict(x), color = 'red')"
   ]
  },
  {
   "cell_type": "code",
   "execution_count": null,
   "metadata": {},
   "outputs": [],
   "source": [
    "# Previsão com formula\n",
    "prev = modelo.intercept_ + modelo.coef_ * 1300\n",
    "prev"
   ]
  },
  {
   "cell_type": "code",
   "execution_count": null,
   "metadata": {},
   "outputs": [],
   "source": [
    "# previsão por método\n",
    "valor = 1300\n",
    "modelo.predict([[valor]])"
   ]
  }
 ],
 "metadata": {
  "kernelspec": {
   "display_name": "base",
   "language": "python",
   "name": "python3"
  },
  "language_info": {
   "codemirror_mode": {
    "name": "ipython",
    "version": 3
   },
   "file_extension": ".py",
   "mimetype": "text/x-python",
   "name": "python",
   "nbconvert_exporter": "python",
   "pygments_lexer": "ipython3",
   "version": "3.11.7"
  }
 },
 "nbformat": 4,
 "nbformat_minor": 2
}
