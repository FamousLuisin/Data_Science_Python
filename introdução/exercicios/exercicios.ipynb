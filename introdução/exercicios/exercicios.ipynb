{
 "cells": [
  {
   "cell_type": "code",
   "execution_count": 2,
   "metadata": {},
   "outputs": [
    {
     "name": "stdout",
     "output_type": "stream",
     "text": [
      "okay\n"
     ]
    }
   ],
   "source": [
    "def amplitude(lista):\n",
    "    maior = max(lista)\n",
    "    menor = min(lista)\n",
    "    return maior - menor\n",
    "\n",
    "if amplitude([1, 5, 10]) == 9:\n",
    "    print(\"okay\")\n",
    "else:\n",
    "    print(\"ERROR\")"
   ]
  },
  {
   "cell_type": "code",
   "execution_count": 3,
   "metadata": {},
   "outputs": [
    {
     "name": "stdout",
     "output_type": "stream",
     "text": [
      "Y\n",
      "a\n",
      "m\n",
      "e\n",
      "t\n",
      "e\n"
     ]
    }
   ],
   "source": [
    "def imprimir(string):\n",
    "    for letra in string:\n",
    "        print(letra)\n",
    "\n",
    "imprimir(\"Yamete\")\n",
    "\n",
    "def price(peso = None):\n",
    "    if not peso:\n",
    "        peso = int(input(\"Qual o peso?: \"))\n",
    "\n",
    "        "
   ]
  },
  {
   "cell_type": "code",
   "execution_count": 9,
   "metadata": {},
   "outputs": [
    {
     "name": "stdout",
     "output_type": "stream",
     "text": [
      "valor: R$50,00\n",
      "True\n",
      "Valor: R$80,00\n",
      "True\n",
      "Peso não aceito\n",
      "True\n",
      "peso inválido\n",
      "True\n"
     ]
    }
   ],
   "source": [
    "def price(peso = None):\n",
    "    if peso == None:\n",
    "        peso = int(input(\"Qual o peso?: \"))\n",
    "    \n",
    "    if peso > 0 and peso <= 10:\n",
    "        print(\"valor: R$50,00\")\n",
    "        return 1\n",
    "    elif peso > 10 and peso <= 20:\n",
    "        print(\"Valor: R$80,00\")\n",
    "        return 2\n",
    "    elif peso > 20:\n",
    "        print(\"Peso não aceito\")\n",
    "        return 3\n",
    "    else:\n",
    "        print(\"peso inválido\")\n",
    "        return 4\n",
    "\n",
    "if price(5) == 1:\n",
    "    print(True)\n",
    "\n",
    "if price(15) == 2:\n",
    "    print(True)\n",
    "\n",
    "if price(70) == 3:\n",
    "    print(True)\n",
    "\n",
    "if price(0) == 4:\n",
    "    print(True)\n",
    "    "
   ]
  }
 ],
 "metadata": {
  "kernelspec": {
   "display_name": "base",
   "language": "python",
   "name": "python3"
  },
  "language_info": {
   "codemirror_mode": {
    "name": "ipython",
    "version": 3
   },
   "file_extension": ".py",
   "mimetype": "text/x-python",
   "name": "python",
   "nbconvert_exporter": "python",
   "pygments_lexer": "ipython3",
   "version": "3.11.5"
  }
 },
 "nbformat": 4,
 "nbformat_minor": 2
}
