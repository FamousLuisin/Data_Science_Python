{
 "cells": [
  {
   "cell_type": "markdown",
   "metadata": {},
   "source": [
    "# Aula 10\n",
    "Funções Padrão"
   ]
  },
  {
   "cell_type": "code",
   "execution_count": 1,
   "metadata": {},
   "outputs": [
    {
     "name": "stdout",
     "output_type": "stream",
     "text": [
      "200\n",
      "Maior valor:  45\n",
      "Menor valor:  1\n",
      "Soma:  108\n",
      "Arredondamento:  2.35\n"
     ]
    }
   ],
   "source": [
    "#funções internas\n",
    "print(abs(-200))\n",
    "lst = [1,2,30,30,45]\n",
    "print(\"Maior valor: \", max(lst))\n",
    "print(\"Menor valor: \", min(lst))\n",
    "print(\"Soma: \", sum(lst))\n",
    "print(\"Arredondamento: \", round(2.34567,2))"
   ]
  },
  {
   "cell_type": "code",
   "execution_count": 2,
   "metadata": {},
   "outputs": [
    {
     "name": "stdout",
     "output_type": "stream",
     "text": [
      "Média:  21.6\n",
      "Mediana:  30\n",
      "Moda:  30\n"
     ]
    }
   ],
   "source": [
    "#statistica\n",
    "from statistics import *\n",
    "print(\"Média: \", mean(lst))\n",
    "print(\"Mediana: \", median(lst))\n",
    "print(\"Moda: \", mode(lst))"
   ]
  },
  {
   "cell_type": "code",
   "execution_count": 3,
   "metadata": {},
   "outputs": [
    {
     "name": "stdout",
     "output_type": "stream",
     "text": [
      "Desvio padrão:  19.346834366376324\n"
     ]
    }
   ],
   "source": [
    "#desvio padrão da amostra\n",
    "print(\"Desvio padrão: \", stdev(lst))"
   ]
  },
  {
   "cell_type": "code",
   "execution_count": 4,
   "metadata": {},
   "outputs": [
    {
     "name": "stdout",
     "output_type": "stream",
     "text": [
      "Variância:  374.3\n"
     ]
    }
   ],
   "source": [
    "#variancia da amostra\n",
    "print(\"Variância: \", variance(lst))"
   ]
  },
  {
   "cell_type": "code",
   "execution_count": 5,
   "metadata": {},
   "outputs": [
    {
     "name": "stdout",
     "output_type": "stream",
     "text": [
      "<class 'numpy.ndarray'>\n",
      "[[0.41929329 0.40517513 0.39394033 0.82978998 0.3171151  0.71321828\n",
      "  0.4250351  0.84723142]\n",
      " [0.43106836 0.34883031 0.75509147 0.87064027 0.19847756 0.26952522\n",
      "  0.65295341 0.85850139]\n",
      " [0.52512006 0.1669832  0.15541305 0.64998716 0.1504593  0.44390729\n",
      "  0.2830314  0.67586824]\n",
      " [0.96006083 0.470065   0.99179838 0.41661592 0.00102479 0.03734326\n",
      "  0.43808538 0.29977909]\n",
      " [0.91575393 0.86067153 0.97405145 0.9025799  0.60800402 0.60931424\n",
      "  0.94036013 0.42939768]\n",
      " [0.65403668 0.25673877 0.34001154 0.54565429 0.13398071 0.50860949\n",
      "  0.99017882 0.27454487]\n",
      " [0.8949231  0.42288889 0.68100803 0.28666858 0.34692274 0.55269379\n",
      "  0.3373442  0.66150458]\n",
      " [0.89918991 0.33117902 0.19304447 0.30343584 0.46461478 0.22220014\n",
      "  0.72021827 0.6093024 ]]\n"
     ]
    }
   ],
   "source": [
    "from numpy import *\n",
    "a = random.random((8,8))\n",
    "print(type(a))\n",
    "print(a)"
   ]
  },
  {
   "cell_type": "code",
   "execution_count": null,
   "metadata": {},
   "outputs": [],
   "source": []
  }
 ],
 "metadata": {
  "kernelspec": {
   "display_name": "Python 3",
   "language": "python",
   "name": "python3"
  },
  "language_info": {
   "codemirror_mode": {
    "name": "ipython",
    "version": 3
   },
   "file_extension": ".py",
   "mimetype": "text/x-python",
   "name": "python",
   "nbconvert_exporter": "python",
   "pygments_lexer": "ipython3",
   "version": "3.11.7"
  }
 },
 "nbformat": 4,
 "nbformat_minor": 4
}
