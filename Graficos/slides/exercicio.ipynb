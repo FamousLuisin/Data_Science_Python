{
 "cells": [
  {
   "cell_type": "code",
   "execution_count": null,
   "metadata": {},
   "outputs": [],
   "source": [
    "import pandas as pd\n",
    "import seaborn as srn\n",
    "import numpy as np\n",
    "import matplotlib.pyplot as plt"
   ]
  },
  {
   "cell_type": "code",
   "execution_count": null,
   "metadata": {},
   "outputs": [],
   "source": [
    "base = pd.read_csv('../dados/dados.csv', sep=';')\n",
    "base.head()"
   ]
  },
  {
   "cell_type": "code",
   "execution_count": null,
   "metadata": {},
   "outputs": [],
   "source": [
    "srn.histplot(base.PIB, kde=True, bins=10).set(title='PIB')"
   ]
  },
  {
   "cell_type": "code",
   "execution_count": null,
   "metadata": {},
   "outputs": [],
   "source": [
    "srn.histplot(base.VALOREMPENHO, kde=True, bins=20).set(title='Valor Empenho')"
   ]
  },
  {
   "cell_type": "code",
   "execution_count": null,
   "metadata": {},
   "outputs": [],
   "source": [
    "agrupado = base.sort_values('PIB', ascending=False).head(10)\n",
    "agrupado = agrupado.iloc[:,1:3]\n",
    "agrupado\n",
    "agrupado.plot.bar(x='MUNICIPIO',y='PIB', color = 'gray')"
   ]
  },
  {
   "cell_type": "code",
   "execution_count": null,
   "metadata": {},
   "outputs": [],
   "source": [
    "agrupado = base.sort_values('VALOREMPENHO', ascending=False).head(10)\n",
    "agrupado = agrupado.iloc[:,[1,3]]\n",
    "agrupado\n",
    "agrupado.plot.bar(x='MUNICIPIO',y='VALOREMPENHO', color = 'gray')"
   ]
  },
  {
   "cell_type": "code",
   "execution_count": null,
   "metadata": {},
   "outputs": [],
   "source": [
    "srn.scatterplot(x=base.PIB, y=base.VALOREMPENHO)"
   ]
  },
  {
   "cell_type": "code",
   "execution_count": null,
   "metadata": {},
   "outputs": [],
   "source": [
    "plt.figure(figsize=(20, 5))\n",
    "plt.subplot(1, 3, 1)\n",
    "srn.histplot(base.PIB, kde=True, bins=20).set(title='PIB')\n",
    "plt.title('PIB')\n",
    "\n",
    "plt.subplot(1, 3, 2)\n",
    "srn.histplot(base.VALOREMPENHO, kde=True, bins=20).set(title='Empenho')\n",
    "plt.title('EMPENHO')\n",
    "\n",
    "plt.subplot(1, 3, 3)\n",
    "srn.scatterplot(x=base.PIB, y=base.VALOREMPENHO)\n",
    "plt.title('PIB')"
   ]
  }
 ],
 "metadata": {
  "kernelspec": {
   "display_name": "base",
   "language": "python",
   "name": "python3"
  },
  "language_info": {
   "codemirror_mode": {
    "name": "ipython",
    "version": 3
   },
   "file_extension": ".py",
   "mimetype": "text/x-python",
   "name": "python",
   "nbconvert_exporter": "python",
   "pygments_lexer": "ipython3",
   "version": "3.11.7"
  }
 },
 "nbformat": 4,
 "nbformat_minor": 2
}
